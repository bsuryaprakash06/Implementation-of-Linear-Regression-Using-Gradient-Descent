{
 "cells": [
  {
   "cell_type": "code",
   "execution_count": 15,
   "id": "5c57c48e",
   "metadata": {},
   "outputs": [],
   "source": [
    "#Program to implement the linear regression using gradient descent.\n",
    "#Developed by: B Surya Prakash\n",
    "#RegisterNumber: 212224230281\n",
    "\n",
    "import numpy as np\n",
    "import pandas as pd\n",
    "from sklearn.preprocessing import StandardScaler\n",
    "def linear_regression(X1, y, learning_rate=0.01, num_iters=1000):\n",
    "\n",
    "    X= np.c_[np.ones(len(X1)), X1]\n",
    "\n",
    "    theta = np.zeros(x.shape[1]).reshape(-1,1)\n",
    "    \n",
    "    for _ in range(num_iters):\n",
    "        predictions = (x).dot(theta).reshape(-1, 1)\n",
    "        errors = (predictions - y).reshape(-1,1)\n",
    "        theta -= learning_rate * (1/ len(X1)) * X.T.dot(errors)\n",
    "    return theta"
   ]
  },
  {
   "cell_type": "code",
   "execution_count": 12,
   "id": "cca8b0da",
   "metadata": {},
   "outputs": [
    {
     "name": "stdout",
     "output_type": "stream",
     "text": [
      "   R&D Spend  Administration  Marketing Spend       State     Profit\n",
      "0  165349.20       136897.80        471784.10    New York  192261.83\n",
      "1  162597.70       151377.59        443898.53  California  191792.06\n",
      "2  153441.51       101145.55        407934.54     Florida  191050.39\n",
      "3  144372.41       118671.85        383199.62    New York  182901.99\n",
      "4  142107.34        91391.77        366168.42     Florida  166187.94\n"
     ]
    }
   ],
   "source": [
    "import pandas as pd\n",
    "import numpy as np\n",
    "from sklearn.preprocessing import StandardScaler\n",
    "from sklearn.linear_model import LinearRegression\n",
    "\n",
    "data = pd.read_csv(\"50_Startups.csv\")\n",
    "\n",
    "print(data.head())\n",
    "\n"
   ]
  },
  {
   "cell_type": "code",
   "execution_count": 13,
   "id": "e4b80424",
   "metadata": {},
   "outputs": [
    {
     "name": "stdout",
     "output_type": "stream",
     "text": [
      "Name:B Surya Prakash\n",
      "Register No:212224230281\n",
      "[[ 2.01641149e+00  5.60752915e-01  2.15394309e+00]\n",
      " [ 1.95586034e+00  1.08280658e+00  1.92360040e+00]\n",
      " [ 1.75436374e+00 -7.28257028e-01  1.62652767e+00]\n",
      " [ 1.55478369e+00 -9.63646307e-02  1.42221024e+00]\n",
      " [ 1.50493720e+00 -1.07991935e+00  1.28152771e+00]\n",
      " [ 1.27980001e+00 -7.76239071e-01  1.25421046e+00]\n",
      " [ 1.34006641e+00  9.32147208e-01 -6.88149930e-01]\n",
      " [ 1.24505666e+00  8.71980011e-01  9.32185978e-01]\n",
      " [ 1.03036886e+00  9.86952101e-01  8.30886909e-01]\n",
      " [ 1.09181921e+00 -4.56640246e-01  7.76107440e-01]\n",
      " [ 6.20398248e-01 -3.87599089e-01  1.49807267e-01]\n",
      " [ 5.93085418e-01 -1.06553960e+00  3.19833623e-01]\n",
      " [ 4.43259872e-01  2.15449064e-01  3.20617441e-01]\n",
      " [ 4.02077603e-01  5.10178953e-01  3.43956788e-01]\n",
      " [ 1.01718075e+00  1.26919939e+00  3.75742273e-01]\n",
      " [ 8.97913123e-01  4.58678535e-02  4.19218702e-01]\n",
      " [ 9.44411957e-02  9.11841968e-03  4.40446224e-01]\n",
      " [ 4.60720127e-01  8.55666318e-01  5.91016724e-01]\n",
      " [ 3.96724938e-01 -2.58465367e-01  6.92992062e-01]\n",
      " [ 2.79441650e-01  1.15983657e+00 -1.74312698e+00]\n",
      " [ 5.57260867e-02 -2.69587651e-01  7.23925995e-01]\n",
      " [ 1.02723599e-01  1.16918609e+00  7.32787791e-01]\n",
      " [ 6.00657792e-03  5.18495648e-02  7.62375876e-01]\n",
      " [-1.36200724e-01 -5.62211268e-01  7.74348908e-01]\n",
      " [ 7.31146008e-02 -7.95469167e-01 -5.81939297e-01]\n",
      " [-1.99311688e-01  6.56489139e-01 -6.03516725e-01]\n",
      " [ 3.53702028e-02  8.21717916e-01 -6.35835495e-01]\n",
      " [-3.55189938e-02  2.35068543e-01  1.17427116e+00]\n",
      " [-1.68792717e-01  2.21014050e+00 -7.67189437e-01]\n",
      " [-1.78608540e-01  1.14245677e+00 -8.58133663e-01]\n",
      " [-2.58074369e-01 -2.05628659e-01 -9.90357166e-01]\n",
      " [-2.76958231e-01  1.13055391e+00 -1.01441945e+00]\n",
      " [-2.26948675e-01  2.83923813e-01 -1.36244978e+00]\n",
      " [-4.01128925e-01 -6.59324033e-01  2.98172434e-02]\n",
      " [-6.00682122e-01  1.31053525e+00 -1.87861793e-03]\n",
      " [-6.09749941e-01 -1.30865753e+00 -4.54931587e-02]\n",
      " [-9.91570153e-01  2.05924691e-01 -8.17625734e-02]\n",
      " [-6.52532310e-01 -2.52599402e+00 -1.15608256e-01]\n",
      " [-1.17717755e+00 -1.99727037e+00 -2.12784866e-01]\n",
      " [-7.73820359e-01 -1.38312156e+00 -2.97583276e-01]\n",
      " [-9.89577015e-01 -1.00900218e-01 -3.15785883e-01]\n",
      " [-1.00853372e+00 -1.32079581e+00 -3.84552407e-01]\n",
      " [-1.10210556e+00 -9.06937535e-01 -5.20595959e-01]\n",
      " [-1.28113364e+00  2.17681524e-01 -1.44960468e+00]\n",
      " [-1.13430539e+00  1.20641936e+00 -1.50907418e+00]\n",
      " [-1.60035036e+00  1.01253936e-01 -1.72739998e+00]\n",
      " [-1.59341322e+00 -1.99321741e-01  7.11122474e-01]\n",
      " [-1.62236202e+00  5.07721876e-01 -1.74312698e+00]\n",
      " [-1.61043334e+00 -2.50940884e+00 -1.74312698e+00]\n",
      " [-1.62236202e+00 -1.57225506e-01 -1.36998473e+00]]\n",
      "[[ 2.01120333]\n",
      " [ 1.99942997]\n",
      " [ 1.98084225]\n",
      " [ 1.77662724]\n",
      " [ 1.35774012]\n",
      " [ 1.12724963]\n",
      " [ 1.10548055]\n",
      " [ 1.09620987]\n",
      " [ 1.00746967]\n",
      " [ 0.94602247]\n",
      " [ 0.85484675]\n",
      " [ 0.80816756]\n",
      " [ 0.74115484]\n",
      " [ 0.55874952]\n",
      " [ 0.51602637]\n",
      " [ 0.44871967]\n",
      " [ 0.3754357 ]\n",
      " [ 0.33477114]\n",
      " [ 0.307116  ]\n",
      " [ 0.26977265]\n",
      " [ 0.16193522]\n",
      " [-0.01753384]\n",
      " [-0.04161264]\n",
      " [-0.08216943]\n",
      " [-0.08672946]\n",
      " [-0.11549309]\n",
      " [-0.15736664]\n",
      " [-0.17554233]\n",
      " [-0.21879755]\n",
      " [-0.27588222]\n",
      " [-0.3026246 ]\n",
      " [-0.36412744]\n",
      " [-0.36552389]\n",
      " [-0.38178711]\n",
      " [-0.38344421]\n",
      " [-0.38929092]\n",
      " [-0.53393161]\n",
      " [-0.5529549 ]\n",
      " [-0.77149734]\n",
      " [-0.77709368]\n",
      " [-0.84641135]\n",
      " [-0.85746568]\n",
      " [-1.01536466]\n",
      " [-1.05896021]\n",
      " [-1.17320899]\n",
      " [-1.18008224]\n",
      " [-1.56692212]\n",
      " [-1.74062718]\n",
      " [-1.91321197]\n",
      " [-2.43931323]]\n"
     ]
    }
   ],
   "source": [
    "X = data.iloc[:, :-2].values.astype(float)  \n",
    "y = data.iloc[:, -1].values.astype(float).reshape(-1, 1)\n",
    "\n",
    "scaler_X = StandardScaler()\n",
    "scaler_y = StandardScaler()\n",
    "X1_Scaled = scaler_X.fit_transform(X)\n",
    "Y1_Scaled = scaler_y.fit_transform(y)\n",
    "\n",
    "print('Name:B Surya Prakash')\n",
    "print('Register No:212224230281')\n",
    "print(X1_Scaled)\n",
    "print(Y1_Scaled)\n",
    "\n",
    "\n"
   ]
  },
  {
   "cell_type": "code",
   "execution_count": 14,
   "id": "3a35a1a7",
   "metadata": {},
   "outputs": [
    {
     "name": "stdout",
     "output_type": "stream",
     "text": [
      "Predicted value: [[192521.25289008]]\n"
     ]
    }
   ],
   "source": [
    "model = LinearRegression()\n",
    "model.fit(X1_Scaled, Y1_Scaled)\n",
    "\n",
    "new_data = np.array([[165349.2,136897.8,471784.1]])\n",
    "new_Scaled = scaler_X.transform(new_data)\n",
    "prediction = model.predict(new_Scaled)\n",
    "pre = scaler_y.inverse_transform(prediction)\n",
    "print(f\"Predicted value: {pre}\")"
   ]
  },
  {
   "cell_type": "code",
   "execution_count": null,
   "id": "b4f94d01",
   "metadata": {},
   "outputs": [],
   "source": []
  }
 ],
 "metadata": {
  "kernelspec": {
   "display_name": "Python 3 (ipykernel)",
   "language": "python",
   "name": "python3"
  },
  "language_info": {
   "codemirror_mode": {
    "name": "ipython",
    "version": 3
   },
   "file_extension": ".py",
   "mimetype": "text/x-python",
   "name": "python",
   "nbconvert_exporter": "python",
   "pygments_lexer": "ipython3",
   "version": "3.11.3"
  }
 },
 "nbformat": 4,
 "nbformat_minor": 5
}
